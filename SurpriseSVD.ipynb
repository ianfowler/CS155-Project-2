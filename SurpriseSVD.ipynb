{
 "cells": [
  {
   "cell_type": "code",
   "execution_count": 173,
   "id": "e3f0c450",
   "metadata": {},
   "outputs": [],
   "source": [
    "from surprise import SVD\n",
    "from surprise import Dataset\n",
    "from surprise.model_selection import cross_validate\n",
    "import numpy as np\n",
    "import matplotlib.pyplot as plt\n",
    "import pandas as pd"
   ]
  },
  {
   "cell_type": "code",
   "execution_count": 174,
   "id": "9ef12afc",
   "metadata": {},
   "outputs": [],
   "source": [
    "Y_train = pd.read_csv('https://raw.githubusercontent.com/charlesincharge/Caltech-CS155-2022/main/miniprojects/miniproject2/data/train.csv').astype(int)\n",
    "Y_test = pd.read_csv('https://raw.githubusercontent.com/charlesincharge/Caltech-CS155-2022/main/miniprojects/miniproject2/data/test.csv').astype(int)"
   ]
  },
  {
   "cell_type": "code",
   "execution_count": 175,
   "id": "123bdd9b",
   "metadata": {},
   "outputs": [
    {
     "data": {
      "text/html": [
       "<div>\n",
       "<style scoped>\n",
       "    .dataframe tbody tr th:only-of-type {\n",
       "        vertical-align: middle;\n",
       "    }\n",
       "\n",
       "    .dataframe tbody tr th {\n",
       "        vertical-align: top;\n",
       "    }\n",
       "\n",
       "    .dataframe thead th {\n",
       "        text-align: right;\n",
       "    }\n",
       "</style>\n",
       "<table border=\"1\" class=\"dataframe\">\n",
       "  <thead>\n",
       "    <tr style=\"text-align: right;\">\n",
       "      <th></th>\n",
       "      <th>User ID</th>\n",
       "      <th>Movie ID</th>\n",
       "      <th>Rating</th>\n",
       "    </tr>\n",
       "  </thead>\n",
       "  <tbody>\n",
       "    <tr>\n",
       "      <th>0</th>\n",
       "      <td>196</td>\n",
       "      <td>242</td>\n",
       "      <td>3</td>\n",
       "    </tr>\n",
       "    <tr>\n",
       "      <th>1</th>\n",
       "      <td>186</td>\n",
       "      <td>302</td>\n",
       "      <td>3</td>\n",
       "    </tr>\n",
       "    <tr>\n",
       "      <th>2</th>\n",
       "      <td>22</td>\n",
       "      <td>377</td>\n",
       "      <td>1</td>\n",
       "    </tr>\n",
       "    <tr>\n",
       "      <th>3</th>\n",
       "      <td>166</td>\n",
       "      <td>346</td>\n",
       "      <td>1</td>\n",
       "    </tr>\n",
       "    <tr>\n",
       "      <th>4</th>\n",
       "      <td>298</td>\n",
       "      <td>474</td>\n",
       "      <td>4</td>\n",
       "    </tr>\n",
       "    <tr>\n",
       "      <th>...</th>\n",
       "      <td>...</td>\n",
       "      <td>...</td>\n",
       "      <td>...</td>\n",
       "    </tr>\n",
       "    <tr>\n",
       "      <th>89995</th>\n",
       "      <td>378</td>\n",
       "      <td>78</td>\n",
       "      <td>3</td>\n",
       "    </tr>\n",
       "    <tr>\n",
       "      <th>89996</th>\n",
       "      <td>880</td>\n",
       "      <td>476</td>\n",
       "      <td>3</td>\n",
       "    </tr>\n",
       "    <tr>\n",
       "      <th>89997</th>\n",
       "      <td>716</td>\n",
       "      <td>204</td>\n",
       "      <td>5</td>\n",
       "    </tr>\n",
       "    <tr>\n",
       "      <th>89998</th>\n",
       "      <td>276</td>\n",
       "      <td>1090</td>\n",
       "      <td>1</td>\n",
       "    </tr>\n",
       "    <tr>\n",
       "      <th>89999</th>\n",
       "      <td>12</td>\n",
       "      <td>203</td>\n",
       "      <td>3</td>\n",
       "    </tr>\n",
       "  </tbody>\n",
       "</table>\n",
       "<p>90000 rows × 3 columns</p>\n",
       "</div>"
      ],
      "text/plain": [
       "       User ID  Movie ID  Rating\n",
       "0          196       242       3\n",
       "1          186       302       3\n",
       "2           22       377       1\n",
       "3          166       346       1\n",
       "4          298       474       4\n",
       "...        ...       ...     ...\n",
       "89995      378        78       3\n",
       "89996      880       476       3\n",
       "89997      716       204       5\n",
       "89998      276      1090       1\n",
       "89999       12       203       3\n",
       "\n",
       "[90000 rows x 3 columns]"
      ]
     },
     "execution_count": 175,
     "metadata": {},
     "output_type": "execute_result"
    }
   ],
   "source": [
    "Y_train"
   ]
  },
  {
   "cell_type": "code",
   "execution_count": 176,
   "id": "42d6b92b",
   "metadata": {},
   "outputs": [],
   "source": [
    "import pandas as pd\n",
    "from surprise import Dataset\n",
    "from surprise import Reader\n",
    "\n",
    "reader = Reader(rating_scale=(1, 5))\n",
    "data = Dataset.load_from_df(Y_train[['User ID', 'Movie ID', 'Rating']], reader)"
   ]
  },
  {
   "cell_type": "code",
   "execution_count": 177,
   "id": "bed15e3b",
   "metadata": {},
   "outputs": [],
   "source": [
    "from surprise import SVD\n",
    "from surprise.model_selection import cross_validate"
   ]
  },
  {
   "cell_type": "code",
   "execution_count": 178,
   "id": "6806dfb2",
   "metadata": {},
   "outputs": [],
   "source": [
    "svd = SVD(verbose=True, n_epochs=30, n_factors = 40, lr_all = 0.03, reg_all = 0.1)"
   ]
  },
  {
   "cell_type": "code",
   "execution_count": 179,
   "id": "6624032f",
   "metadata": {},
   "outputs": [
    {
     "name": "stdout",
     "output_type": "stream",
     "text": [
      "Processing epoch 0\n",
      "Processing epoch 1\n",
      "Processing epoch 2\n",
      "Processing epoch 3\n",
      "Processing epoch 4\n",
      "Processing epoch 5\n",
      "Processing epoch 6\n",
      "Processing epoch 7\n",
      "Processing epoch 8\n",
      "Processing epoch 9\n",
      "Processing epoch 10\n",
      "Processing epoch 11\n",
      "Processing epoch 12\n",
      "Processing epoch 13\n",
      "Processing epoch 14\n",
      "Processing epoch 15\n",
      "Processing epoch 16\n",
      "Processing epoch 17\n",
      "Processing epoch 18\n",
      "Processing epoch 19\n",
      "Processing epoch 20\n",
      "Processing epoch 21\n",
      "Processing epoch 22\n",
      "Processing epoch 23\n",
      "Processing epoch 24\n",
      "Processing epoch 25\n",
      "Processing epoch 26\n",
      "Processing epoch 27\n",
      "Processing epoch 28\n",
      "Processing epoch 29\n"
     ]
    },
    {
     "data": {
      "text/plain": [
       "<surprise.prediction_algorithms.matrix_factorization.SVD at 0x7f9ea52d8e20>"
      ]
     },
     "execution_count": 179,
     "metadata": {},
     "output_type": "execute_result"
    }
   ],
   "source": [
    "trainset = data.build_full_trainset()\n",
    "svd.fit(trainset)"
   ]
  },
  {
   "cell_type": "code",
   "execution_count": 180,
   "id": "76e4ebe7",
   "metadata": {},
   "outputs": [],
   "source": [
    "test = Dataset.load_from_df(Y_test[['User ID', 'Movie ID', 'Rating']], reader)"
   ]
  },
  {
   "cell_type": "code",
   "execution_count": 181,
   "id": "79d2614a",
   "metadata": {},
   "outputs": [],
   "source": [
    "testset = test.build_full_trainset()\n",
    "testset = testset.build_testset()\n",
    "preds = svd.test(testset)"
   ]
  },
  {
   "cell_type": "code",
   "execution_count": 182,
   "id": "33e4579c",
   "metadata": {},
   "outputs": [],
   "source": [
    "from surprise.accuracy import mse"
   ]
  },
  {
   "cell_type": "code",
   "execution_count": 183,
   "id": "f817377f",
   "metadata": {},
   "outputs": [
    {
     "name": "stdout",
     "output_type": "stream",
     "text": [
      "MSE: 0.8292\n"
     ]
    },
    {
     "data": {
      "text/plain": [
       "0.8291682774680803"
      ]
     },
     "execution_count": 183,
     "metadata": {},
     "output_type": "execute_result"
    }
   ],
   "source": [
    "mse(preds, verbose=True)"
   ]
  },
  {
   "cell_type": "code",
   "execution_count": 184,
   "id": "8e7292f2",
   "metadata": {},
   "outputs": [
    {
     "data": {
      "text/plain": [
       "(943, 40)"
      ]
     },
     "execution_count": 184,
     "metadata": {},
     "output_type": "execute_result"
    }
   ],
   "source": [
    "svd.pu.shape"
   ]
  },
  {
   "cell_type": "code",
   "execution_count": 185,
   "id": "89cc4258",
   "metadata": {},
   "outputs": [
    {
     "data": {
      "text/plain": [
       "(1668, 40)"
      ]
     },
     "execution_count": 185,
     "metadata": {},
     "output_type": "execute_result"
    }
   ],
   "source": [
    "svd.qi.shape"
   ]
  },
  {
   "cell_type": "code",
   "execution_count": 186,
   "id": "15ee4f1f",
   "metadata": {},
   "outputs": [],
   "source": [
    "svd2 = SVD(verbose=True, n_epochs=30, n_factors = 40, lr_all = 0.03, reg_all = 0.1)"
   ]
  },
  {
   "cell_type": "code",
   "execution_count": 187,
   "id": "f86cf6f4",
   "metadata": {},
   "outputs": [],
   "source": [
    "Y_full = pd.read_csv('https://raw.githubusercontent.com/charlesincharge/Caltech-CS155-2022/main/miniprojects/miniproject2/data/data.csv')"
   ]
  },
  {
   "cell_type": "code",
   "execution_count": 188,
   "id": "60777617",
   "metadata": {},
   "outputs": [],
   "source": [
    "fdata = Dataset.load_from_df(Y_full[['User ID', 'Movie ID', 'Rating']], reader)"
   ]
  },
  {
   "cell_type": "code",
   "execution_count": 189,
   "id": "f3d7da01",
   "metadata": {},
   "outputs": [
    {
     "name": "stdout",
     "output_type": "stream",
     "text": [
      "Processing epoch 0\n",
      "Processing epoch 1\n",
      "Processing epoch 2\n",
      "Processing epoch 3\n",
      "Processing epoch 4\n",
      "Processing epoch 5\n",
      "Processing epoch 6\n",
      "Processing epoch 7\n",
      "Processing epoch 8\n",
      "Processing epoch 9\n",
      "Processing epoch 10\n",
      "Processing epoch 11\n",
      "Processing epoch 12\n",
      "Processing epoch 13\n",
      "Processing epoch 14\n",
      "Processing epoch 15\n",
      "Processing epoch 16\n",
      "Processing epoch 17\n",
      "Processing epoch 18\n",
      "Processing epoch 19\n",
      "Processing epoch 20\n",
      "Processing epoch 21\n",
      "Processing epoch 22\n",
      "Processing epoch 23\n",
      "Processing epoch 24\n",
      "Processing epoch 25\n",
      "Processing epoch 26\n",
      "Processing epoch 27\n",
      "Processing epoch 28\n",
      "Processing epoch 29\n"
     ]
    },
    {
     "data": {
      "text/plain": [
       "<surprise.prediction_algorithms.matrix_factorization.SVD at 0x7f9ea291efd0>"
      ]
     },
     "execution_count": 189,
     "metadata": {},
     "output_type": "execute_result"
    }
   ],
   "source": [
    "ftrainset = fdata.build_full_trainset()\n",
    "svd2.fit(ftrainset)"
   ]
  },
  {
   "cell_type": "code",
   "execution_count": 72,
   "id": "850a06c5",
   "metadata": {},
   "outputs": [
    {
     "data": {
      "text/plain": [
       "(943, 100)"
      ]
     },
     "execution_count": 72,
     "metadata": {},
     "output_type": "execute_result"
    }
   ],
   "source": [
    "svd2.pu.shape"
   ]
  },
  {
   "cell_type": "code",
   "execution_count": 73,
   "id": "dc6628d0",
   "metadata": {},
   "outputs": [
    {
     "data": {
      "text/plain": [
       "(1682, 100)"
      ]
     },
     "execution_count": 73,
     "metadata": {},
     "output_type": "execute_result"
    }
   ],
   "source": [
    "svd2.qi.shape"
   ]
  },
  {
   "cell_type": "code",
   "execution_count": null,
   "id": "cb6f087f",
   "metadata": {},
   "outputs": [],
   "source": []
  },
  {
   "cell_type": "code",
   "execution_count": 190,
   "id": "08c473de",
   "metadata": {},
   "outputs": [],
   "source": [
    "U = svd2.pu\n",
    "V = svd2.qi"
   ]
  },
  {
   "cell_type": "code",
   "execution_count": 191,
   "id": "9b647733",
   "metadata": {},
   "outputs": [],
   "source": [
    "Ub = svd2.bu\n",
    "Vb = svd2.bi"
   ]
  },
  {
   "cell_type": "code",
   "execution_count": 192,
   "id": "b5447f3e",
   "metadata": {},
   "outputs": [],
   "source": [
    "np.save(\"ots_bias_U2.npy\", U.T)\n",
    "np.save(\"ots_bias_V2.npy\", V.T)\n",
    "np.save(\"ots_bias_Ub2.npy\", Ub.T)\n",
    "np.save(\"ots_bias_Vb2.npy\", Vb.T)"
   ]
  },
  {
   "cell_type": "code",
   "execution_count": 202,
   "id": "c184a122",
   "metadata": {},
   "outputs": [],
   "source": [
    "svd3 = SVD(verbose=True, n_epochs=30, n_factors = 40, lr_all = 0.03, reg_all = 0.1, biased=False)"
   ]
  },
  {
   "cell_type": "code",
   "execution_count": 203,
   "id": "ed84064d",
   "metadata": {},
   "outputs": [
    {
     "name": "stdout",
     "output_type": "stream",
     "text": [
      "Processing epoch 0\n",
      "Processing epoch 1\n",
      "Processing epoch 2\n",
      "Processing epoch 3\n",
      "Processing epoch 4\n",
      "Processing epoch 5\n",
      "Processing epoch 6\n",
      "Processing epoch 7\n",
      "Processing epoch 8\n",
      "Processing epoch 9\n",
      "Processing epoch 10\n",
      "Processing epoch 11\n",
      "Processing epoch 12\n",
      "Processing epoch 13\n",
      "Processing epoch 14\n",
      "Processing epoch 15\n",
      "Processing epoch 16\n",
      "Processing epoch 17\n",
      "Processing epoch 18\n",
      "Processing epoch 19\n",
      "Processing epoch 20\n",
      "Processing epoch 21\n",
      "Processing epoch 22\n",
      "Processing epoch 23\n",
      "Processing epoch 24\n",
      "Processing epoch 25\n",
      "Processing epoch 26\n",
      "Processing epoch 27\n",
      "Processing epoch 28\n",
      "Processing epoch 29\n"
     ]
    },
    {
     "data": {
      "text/plain": [
       "<surprise.prediction_algorithms.matrix_factorization.SVD at 0x7f9ea291e1c0>"
      ]
     },
     "execution_count": 203,
     "metadata": {},
     "output_type": "execute_result"
    }
   ],
   "source": [
    "svd3.fit(trainset)"
   ]
  },
  {
   "cell_type": "code",
   "execution_count": 196,
   "id": "871ef5a9",
   "metadata": {},
   "outputs": [],
   "source": [
    "U_nb = svd3.pu\n",
    "V_nb = svd3.qi"
   ]
  },
  {
   "cell_type": "code",
   "execution_count": 197,
   "id": "fc43f9c2",
   "metadata": {},
   "outputs": [],
   "source": [
    "np.save(\"ots_U2.npy\", U_nb.T)\n",
    "np.save(\"ots_V2.npy\", V_nb.T)"
   ]
  },
  {
   "cell_type": "code",
   "execution_count": 204,
   "id": "8a04471d",
   "metadata": {},
   "outputs": [],
   "source": [
    "preds_nb = svd3.test(testset)"
   ]
  },
  {
   "cell_type": "code",
   "execution_count": 205,
   "id": "2a8a93b2",
   "metadata": {},
   "outputs": [
    {
     "name": "stdout",
     "output_type": "stream",
     "text": [
      "MSE: 0.8837\n"
     ]
    },
    {
     "data": {
      "text/plain": [
       "0.8836894496859801"
      ]
     },
     "execution_count": 205,
     "metadata": {},
     "output_type": "execute_result"
    }
   ],
   "source": [
    "mse(preds_nb, verbose=True)"
   ]
  },
  {
   "cell_type": "code",
   "execution_count": 84,
   "id": "e2e6f3dc",
   "metadata": {},
   "outputs": [],
   "source": [
    "svd4 = SVD(verbose=True, n_epochs=10, biased=False)"
   ]
  },
  {
   "cell_type": "code",
   "execution_count": 85,
   "id": "f7bd1425",
   "metadata": {},
   "outputs": [
    {
     "name": "stdout",
     "output_type": "stream",
     "text": [
      "Processing epoch 0\n",
      "Processing epoch 1\n",
      "Processing epoch 2\n",
      "Processing epoch 3\n",
      "Processing epoch 4\n",
      "Processing epoch 5\n",
      "Processing epoch 6\n",
      "Processing epoch 7\n",
      "Processing epoch 8\n",
      "Processing epoch 9\n"
     ]
    },
    {
     "data": {
      "text/plain": [
       "<surprise.prediction_algorithms.matrix_factorization.SVD at 0x7f9ea2928e80>"
      ]
     },
     "execution_count": 85,
     "metadata": {},
     "output_type": "execute_result"
    }
   ],
   "source": [
    "svd4.fit(trainset)"
   ]
  },
  {
   "cell_type": "code",
   "execution_count": 86,
   "id": "0b8f543d",
   "metadata": {},
   "outputs": [],
   "source": [
    "preds2 = svd4.test(testset)"
   ]
  },
  {
   "cell_type": "code",
   "execution_count": 87,
   "id": "2e53d639",
   "metadata": {},
   "outputs": [
    {
     "name": "stdout",
     "output_type": "stream",
     "text": [
      "MSE: 0.9240\n"
     ]
    },
    {
     "data": {
      "text/plain": [
       "0.9239929959802725"
      ]
     },
     "execution_count": 87,
     "metadata": {},
     "output_type": "execute_result"
    }
   ],
   "source": [
    "mse(preds2, verbose=True)"
   ]
  },
  {
   "cell_type": "code",
   "execution_count": 168,
   "id": "4eee2fda",
   "metadata": {},
   "outputs": [],
   "source": [
    "from surprise import NMF\n",
    "nmf = NMF(verbose=True)"
   ]
  },
  {
   "cell_type": "code",
   "execution_count": 169,
   "id": "3d5a5213",
   "metadata": {},
   "outputs": [
    {
     "name": "stdout",
     "output_type": "stream",
     "text": [
      "Processing epoch 0\n",
      "Processing epoch 1\n",
      "Processing epoch 2\n",
      "Processing epoch 3\n",
      "Processing epoch 4\n",
      "Processing epoch 5\n",
      "Processing epoch 6\n",
      "Processing epoch 7\n",
      "Processing epoch 8\n",
      "Processing epoch 9\n",
      "Processing epoch 10\n",
      "Processing epoch 11\n",
      "Processing epoch 12\n",
      "Processing epoch 13\n",
      "Processing epoch 14\n",
      "Processing epoch 15\n",
      "Processing epoch 16\n",
      "Processing epoch 17\n",
      "Processing epoch 18\n",
      "Processing epoch 19\n",
      "Processing epoch 20\n",
      "Processing epoch 21\n",
      "Processing epoch 22\n",
      "Processing epoch 23\n",
      "Processing epoch 24\n",
      "Processing epoch 25\n",
      "Processing epoch 26\n",
      "Processing epoch 27\n",
      "Processing epoch 28\n",
      "Processing epoch 29\n",
      "Processing epoch 30\n",
      "Processing epoch 31\n",
      "Processing epoch 32\n",
      "Processing epoch 33\n",
      "Processing epoch 34\n",
      "Processing epoch 35\n",
      "Processing epoch 36\n",
      "Processing epoch 37\n",
      "Processing epoch 38\n",
      "Processing epoch 39\n",
      "Processing epoch 40\n",
      "Processing epoch 41\n",
      "Processing epoch 42\n",
      "Processing epoch 43\n",
      "Processing epoch 44\n",
      "Processing epoch 45\n",
      "Processing epoch 46\n",
      "Processing epoch 47\n",
      "Processing epoch 48\n",
      "Processing epoch 49\n"
     ]
    },
    {
     "data": {
      "text/plain": [
       "<surprise.prediction_algorithms.matrix_factorization.NMF at 0x7f9ea12fe580>"
      ]
     },
     "execution_count": 169,
     "metadata": {},
     "output_type": "execute_result"
    }
   ],
   "source": [
    "nmf.fit(trainset)"
   ]
  },
  {
   "cell_type": "code",
   "execution_count": 166,
   "id": "7b5150d6",
   "metadata": {},
   "outputs": [],
   "source": [
    "nmfpreds = nmf.test(testset)"
   ]
  },
  {
   "cell_type": "code",
   "execution_count": 167,
   "id": "396eb4d1",
   "metadata": {},
   "outputs": [
    {
     "name": "stdout",
     "output_type": "stream",
     "text": [
      "MSE: 0.9164\n"
     ]
    },
    {
     "data": {
      "text/plain": [
       "0.916431937935995"
      ]
     },
     "execution_count": 167,
     "metadata": {},
     "output_type": "execute_result"
    }
   ],
   "source": [
    "mse(nmfpreds, verbose=True)"
   ]
  },
  {
   "cell_type": "code",
   "execution_count": 170,
   "id": "74349e16",
   "metadata": {},
   "outputs": [],
   "source": [
    "nmf2 = NMF(verbose=True, biased = True)"
   ]
  },
  {
   "cell_type": "code",
   "execution_count": 171,
   "id": "874e7593",
   "metadata": {},
   "outputs": [
    {
     "name": "stdout",
     "output_type": "stream",
     "text": [
      "Processing epoch 0\n",
      "Processing epoch 1\n",
      "Processing epoch 2\n",
      "Processing epoch 3\n",
      "Processing epoch 4\n",
      "Processing epoch 5\n",
      "Processing epoch 6\n",
      "Processing epoch 7\n",
      "Processing epoch 8\n",
      "Processing epoch 9\n",
      "Processing epoch 10\n",
      "Processing epoch 11\n",
      "Processing epoch 12\n",
      "Processing epoch 13\n",
      "Processing epoch 14\n",
      "Processing epoch 15\n",
      "Processing epoch 16\n",
      "Processing epoch 17\n",
      "Processing epoch 18\n",
      "Processing epoch 19\n",
      "Processing epoch 20\n",
      "Processing epoch 21\n",
      "Processing epoch 22\n",
      "Processing epoch 23\n",
      "Processing epoch 24\n",
      "Processing epoch 25\n",
      "Processing epoch 26\n",
      "Processing epoch 27\n",
      "Processing epoch 28\n",
      "Processing epoch 29\n",
      "Processing epoch 30\n",
      "Processing epoch 31\n",
      "Processing epoch 32\n",
      "Processing epoch 33\n",
      "Processing epoch 34\n",
      "Processing epoch 35\n",
      "Processing epoch 36\n",
      "Processing epoch 37\n",
      "Processing epoch 38\n",
      "Processing epoch 39\n",
      "Processing epoch 40\n",
      "Processing epoch 41\n",
      "Processing epoch 42\n",
      "Processing epoch 43\n",
      "Processing epoch 44\n",
      "Processing epoch 45\n",
      "Processing epoch 46\n",
      "Processing epoch 47\n",
      "Processing epoch 48\n",
      "Processing epoch 49\n"
     ]
    }
   ],
   "source": [
    "nmf2.fit(trainset)\n",
    "nmfpreds2 = nmf.test(testset)"
   ]
  },
  {
   "cell_type": "code",
   "execution_count": 172,
   "id": "988114e7",
   "metadata": {},
   "outputs": [
    {
     "name": "stdout",
     "output_type": "stream",
     "text": [
      "MSE: 0.9108\n"
     ]
    },
    {
     "data": {
      "text/plain": [
       "0.9108478705720753"
      ]
     },
     "execution_count": 172,
     "metadata": {},
     "output_type": "execute_result"
    }
   ],
   "source": [
    "mse(nmfpreds2, verbose=True)"
   ]
  },
  {
   "cell_type": "code",
   "execution_count": null,
   "id": "617dcaeb",
   "metadata": {},
   "outputs": [],
   "source": []
  }
 ],
 "metadata": {
  "kernelspec": {
   "display_name": "Python 3 (ipykernel)",
   "language": "python",
   "name": "python3"
  },
  "language_info": {
   "codemirror_mode": {
    "name": "ipython",
    "version": 3
   },
   "file_extension": ".py",
   "mimetype": "text/x-python",
   "name": "python",
   "nbconvert_exporter": "python",
   "pygments_lexer": "ipython3",
   "version": "3.9.5"
  }
 },
 "nbformat": 4,
 "nbformat_minor": 5
}
