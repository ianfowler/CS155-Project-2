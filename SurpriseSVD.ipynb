{
 "cells": [
  {
   "cell_type": "code",
   "execution_count": 221,
   "id": "e3f0c450",
   "metadata": {},
   "outputs": [],
   "source": [
    "from surprise import SVD\n",
    "from surprise import Dataset\n",
    "from surprise.model_selection import cross_validate\n",
    "import numpy as np\n",
    "import matplotlib.pyplot as plt\n",
    "import pandas as pd"
   ]
  },
  {
   "cell_type": "code",
   "execution_count": 222,
   "id": "9ef12afc",
   "metadata": {},
   "outputs": [],
   "source": [
    "Y_train = pd.read_csv('https://raw.githubusercontent.com/charlesincharge/Caltech-CS155-2022/main/miniprojects/miniproject2/data/train.csv').astype(int)\n",
    "Y_test = pd.read_csv('https://raw.githubusercontent.com/charlesincharge/Caltech-CS155-2022/main/miniprojects/miniproject2/data/test.csv').astype(int)"
   ]
  },
  {
   "cell_type": "code",
   "execution_count": 223,
   "id": "42d6b92b",
   "metadata": {},
   "outputs": [],
   "source": [
    "reader = Reader(rating_scale=(1, 5))\n",
    "data = Dataset.load_from_df(Y_train[['User ID', 'Movie ID', 'Rating']], reader)"
   ]
  },
  {
   "cell_type": "code",
   "execution_count": 224,
   "id": "6806dfb2",
   "metadata": {},
   "outputs": [],
   "source": [
    "svd_bias = SVD(verbose=True, n_epochs=30, n_factors = 40, lr_all = 0.03, reg_all = 0.1)"
   ]
  },
  {
   "cell_type": "code",
   "execution_count": 225,
   "id": "6624032f",
   "metadata": {},
   "outputs": [
    {
     "name": "stdout",
     "output_type": "stream",
     "text": [
      "Processing epoch 0\n",
      "Processing epoch 1\n",
      "Processing epoch 2\n",
      "Processing epoch 3\n",
      "Processing epoch 4\n",
      "Processing epoch 5\n",
      "Processing epoch 6\n",
      "Processing epoch 7\n",
      "Processing epoch 8\n",
      "Processing epoch 9\n",
      "Processing epoch 10\n",
      "Processing epoch 11\n",
      "Processing epoch 12\n",
      "Processing epoch 13\n",
      "Processing epoch 14\n",
      "Processing epoch 15\n",
      "Processing epoch 16\n",
      "Processing epoch 17\n",
      "Processing epoch 18\n",
      "Processing epoch 19\n",
      "Processing epoch 20\n",
      "Processing epoch 21\n",
      "Processing epoch 22\n",
      "Processing epoch 23\n",
      "Processing epoch 24\n",
      "Processing epoch 25\n",
      "Processing epoch 26\n",
      "Processing epoch 27\n",
      "Processing epoch 28\n",
      "Processing epoch 29\n"
     ]
    },
    {
     "data": {
      "text/plain": [
       "<surprise.prediction_algorithms.matrix_factorization.SVD at 0x7f9ea2928460>"
      ]
     },
     "execution_count": 225,
     "metadata": {},
     "output_type": "execute_result"
    }
   ],
   "source": [
    "trainset = data.build_full_trainset()\n",
    "svd_bias.fit(trainset)"
   ]
  },
  {
   "cell_type": "code",
   "execution_count": 226,
   "id": "76e4ebe7",
   "metadata": {},
   "outputs": [],
   "source": [
    "test = Dataset.load_from_df(Y_test[['User ID', 'Movie ID', 'Rating']], reader)"
   ]
  },
  {
   "cell_type": "code",
   "execution_count": 227,
   "id": "79d2614a",
   "metadata": {},
   "outputs": [],
   "source": [
    "testset = test.build_full_trainset()\n",
    "testset = testset.build_testset()\n",
    "preds = svd_bias.test(testset)"
   ]
  },
  {
   "cell_type": "code",
   "execution_count": 228,
   "id": "33e4579c",
   "metadata": {},
   "outputs": [],
   "source": [
    "from surprise.accuracy import mse"
   ]
  },
  {
   "cell_type": "code",
   "execution_count": 229,
   "id": "f817377f",
   "metadata": {},
   "outputs": [
    {
     "name": "stdout",
     "output_type": "stream",
     "text": [
      "MSE: 0.8290\n"
     ]
    },
    {
     "data": {
      "text/plain": [
       "0.8290190173848357"
      ]
     },
     "execution_count": 229,
     "metadata": {},
     "output_type": "execute_result"
    }
   ],
   "source": [
    "mse(preds, verbose=True)"
   ]
  },
  {
   "cell_type": "code",
   "execution_count": 230,
   "id": "15ee4f1f",
   "metadata": {},
   "outputs": [],
   "source": [
    "svd_bias_fulldata = SVD(verbose=True, n_epochs=30, n_factors = 40, lr_all = 0.03, reg_all = 0.1)"
   ]
  },
  {
   "cell_type": "code",
   "execution_count": 231,
   "id": "f86cf6f4",
   "metadata": {},
   "outputs": [],
   "source": [
    "Y_full = pd.read_csv('https://raw.githubusercontent.com/charlesincharge/Caltech-CS155-2022/main/miniprojects/miniproject2/data/data.csv')"
   ]
  },
  {
   "cell_type": "code",
   "execution_count": 232,
   "id": "60777617",
   "metadata": {},
   "outputs": [],
   "source": [
    "fdata = Dataset.load_from_df(Y_full[['User ID', 'Movie ID', 'Rating']], reader)"
   ]
  },
  {
   "cell_type": "code",
   "execution_count": 233,
   "id": "f3d7da01",
   "metadata": {},
   "outputs": [
    {
     "name": "stdout",
     "output_type": "stream",
     "text": [
      "Processing epoch 0\n",
      "Processing epoch 1\n",
      "Processing epoch 2\n",
      "Processing epoch 3\n",
      "Processing epoch 4\n",
      "Processing epoch 5\n",
      "Processing epoch 6\n",
      "Processing epoch 7\n",
      "Processing epoch 8\n",
      "Processing epoch 9\n",
      "Processing epoch 10\n",
      "Processing epoch 11\n",
      "Processing epoch 12\n",
      "Processing epoch 13\n",
      "Processing epoch 14\n",
      "Processing epoch 15\n",
      "Processing epoch 16\n",
      "Processing epoch 17\n",
      "Processing epoch 18\n",
      "Processing epoch 19\n",
      "Processing epoch 20\n",
      "Processing epoch 21\n",
      "Processing epoch 22\n",
      "Processing epoch 23\n",
      "Processing epoch 24\n",
      "Processing epoch 25\n",
      "Processing epoch 26\n",
      "Processing epoch 27\n",
      "Processing epoch 28\n",
      "Processing epoch 29\n"
     ]
    },
    {
     "data": {
      "text/plain": [
       "<surprise.prediction_algorithms.matrix_factorization.SVD at 0x7f9ea2931df0>"
      ]
     },
     "execution_count": 233,
     "metadata": {},
     "output_type": "execute_result"
    }
   ],
   "source": [
    "ftrainset = fdata.build_full_trainset()\n",
    "svd_bias_fulldata.fit(ftrainset)"
   ]
  },
  {
   "cell_type": "code",
   "execution_count": 234,
   "id": "850a06c5",
   "metadata": {},
   "outputs": [
    {
     "data": {
      "text/plain": [
       "(943, 40)"
      ]
     },
     "execution_count": 234,
     "metadata": {},
     "output_type": "execute_result"
    }
   ],
   "source": [
    "svd2.pu.shape"
   ]
  },
  {
   "cell_type": "code",
   "execution_count": 235,
   "id": "dc6628d0",
   "metadata": {},
   "outputs": [
    {
     "data": {
      "text/plain": [
       "(1682, 40)"
      ]
     },
     "execution_count": 235,
     "metadata": {},
     "output_type": "execute_result"
    }
   ],
   "source": [
    "svd2.qi.shape"
   ]
  },
  {
   "cell_type": "code",
   "execution_count": 236,
   "id": "08c473de",
   "metadata": {},
   "outputs": [],
   "source": [
    "U = svd_bias_fulldata.pu\n",
    "V = svd_bias_fulldata.qi"
   ]
  },
  {
   "cell_type": "code",
   "execution_count": 237,
   "id": "9b647733",
   "metadata": {},
   "outputs": [],
   "source": [
    "Ub = svd_bias_fulldata.bu\n",
    "Vb = svd_bias_fulldata.bi"
   ]
  },
  {
   "cell_type": "code",
   "execution_count": 238,
   "id": "b5447f3e",
   "metadata": {},
   "outputs": [],
   "source": [
    "np.save(\"ots_bias_U2.npy\", U.T)\n",
    "np.save(\"ots_bias_V2.npy\", V.T)\n",
    "np.save(\"ots_bias_Ub2.npy\", Ub.T)\n",
    "np.save(\"ots_bias_Vb2.npy\", Vb.T)"
   ]
  },
  {
   "cell_type": "code",
   "execution_count": 239,
   "id": "c184a122",
   "metadata": {},
   "outputs": [],
   "source": [
    "svd_nobias = SVD(verbose=True, n_epochs=30, n_factors = 40, lr_all = 0.03, reg_all = 0.1, biased=False)"
   ]
  },
  {
   "cell_type": "code",
   "execution_count": 240,
   "id": "ed84064d",
   "metadata": {},
   "outputs": [
    {
     "name": "stdout",
     "output_type": "stream",
     "text": [
      "Processing epoch 0\n",
      "Processing epoch 1\n",
      "Processing epoch 2\n",
      "Processing epoch 3\n",
      "Processing epoch 4\n",
      "Processing epoch 5\n",
      "Processing epoch 6\n",
      "Processing epoch 7\n",
      "Processing epoch 8\n",
      "Processing epoch 9\n",
      "Processing epoch 10\n",
      "Processing epoch 11\n",
      "Processing epoch 12\n",
      "Processing epoch 13\n",
      "Processing epoch 14\n",
      "Processing epoch 15\n",
      "Processing epoch 16\n",
      "Processing epoch 17\n",
      "Processing epoch 18\n",
      "Processing epoch 19\n",
      "Processing epoch 20\n",
      "Processing epoch 21\n",
      "Processing epoch 22\n",
      "Processing epoch 23\n",
      "Processing epoch 24\n",
      "Processing epoch 25\n",
      "Processing epoch 26\n",
      "Processing epoch 27\n",
      "Processing epoch 28\n",
      "Processing epoch 29\n"
     ]
    },
    {
     "data": {
      "text/plain": [
       "<surprise.prediction_algorithms.matrix_factorization.SVD at 0x7f9ea52142b0>"
      ]
     },
     "execution_count": 240,
     "metadata": {},
     "output_type": "execute_result"
    }
   ],
   "source": [
    "svd_nobias.fit(trainset)"
   ]
  },
  {
   "cell_type": "code",
   "execution_count": 241,
   "id": "8a04471d",
   "metadata": {},
   "outputs": [],
   "source": [
    "preds_nb = svd_nobias.test(testset)"
   ]
  },
  {
   "cell_type": "code",
   "execution_count": 242,
   "id": "2a8a93b2",
   "metadata": {},
   "outputs": [
    {
     "name": "stdout",
     "output_type": "stream",
     "text": [
      "MSE: 0.8854\n"
     ]
    },
    {
     "data": {
      "text/plain": [
       "0.8853858600004904"
      ]
     },
     "execution_count": 242,
     "metadata": {},
     "output_type": "execute_result"
    }
   ],
   "source": [
    "mse(preds_nb, verbose=True)"
   ]
  },
  {
   "cell_type": "code",
   "execution_count": 243,
   "id": "e2e6f3dc",
   "metadata": {},
   "outputs": [],
   "source": [
    "svd_nb_full = SVD(verbose=True, n_epochs=30, n_factors = 40, lr_all = 0.03, reg_all = 0.1, biased=False)"
   ]
  },
  {
   "cell_type": "code",
   "execution_count": 244,
   "id": "f7bd1425",
   "metadata": {},
   "outputs": [
    {
     "name": "stdout",
     "output_type": "stream",
     "text": [
      "Processing epoch 0\n",
      "Processing epoch 1\n",
      "Processing epoch 2\n",
      "Processing epoch 3\n",
      "Processing epoch 4\n",
      "Processing epoch 5\n",
      "Processing epoch 6\n",
      "Processing epoch 7\n",
      "Processing epoch 8\n",
      "Processing epoch 9\n",
      "Processing epoch 10\n",
      "Processing epoch 11\n",
      "Processing epoch 12\n",
      "Processing epoch 13\n",
      "Processing epoch 14\n",
      "Processing epoch 15\n",
      "Processing epoch 16\n",
      "Processing epoch 17\n",
      "Processing epoch 18\n",
      "Processing epoch 19\n",
      "Processing epoch 20\n",
      "Processing epoch 21\n",
      "Processing epoch 22\n",
      "Processing epoch 23\n",
      "Processing epoch 24\n",
      "Processing epoch 25\n",
      "Processing epoch 26\n",
      "Processing epoch 27\n",
      "Processing epoch 28\n",
      "Processing epoch 29\n"
     ]
    },
    {
     "data": {
      "text/plain": [
       "<surprise.prediction_algorithms.matrix_factorization.SVD at 0x7f9e7fa4c130>"
      ]
     },
     "execution_count": 244,
     "metadata": {},
     "output_type": "execute_result"
    }
   ],
   "source": [
    "svd_nb_full.fit(ftrainset)"
   ]
  },
  {
   "cell_type": "code",
   "execution_count": 245,
   "id": "871ef5a9",
   "metadata": {},
   "outputs": [],
   "source": [
    "U_nb = svd_nb_full.pu\n",
    "V_nb = svd_nb_full.qi"
   ]
  },
  {
   "cell_type": "code",
   "execution_count": 246,
   "id": "fc43f9c2",
   "metadata": {},
   "outputs": [],
   "source": [
    "np.save(\"ots_U2.npy\", U_nb.T)\n",
    "np.save(\"ots_V2.npy\", V_nb.T)"
   ]
  },
  {
   "cell_type": "code",
   "execution_count": null,
   "id": "617dcaeb",
   "metadata": {},
   "outputs": [],
   "source": []
  },
  {
   "cell_type": "code",
   "execution_count": null,
   "id": "2b0dcdf4",
   "metadata": {},
   "outputs": [],
   "source": []
  }
 ],
 "metadata": {
  "kernelspec": {
   "display_name": "Python 3 (ipykernel)",
   "language": "python",
   "name": "python3"
  },
  "language_info": {
   "codemirror_mode": {
    "name": "ipython",
    "version": 3
   },
   "file_extension": ".py",
   "mimetype": "text/x-python",
   "name": "python",
   "nbconvert_exporter": "python",
   "pygments_lexer": "ipython3",
   "version": "3.9.5"
  }
 },
 "nbformat": 4,
 "nbformat_minor": 5
}
