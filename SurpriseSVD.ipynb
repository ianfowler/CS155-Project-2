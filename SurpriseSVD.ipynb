{
 "cells": [
  {
   "cell_type": "code",
   "execution_count": 55,
   "id": "e3f0c450",
   "metadata": {},
   "outputs": [],
   "source": [
    "from surprise import SVD\n",
    "from surprise import Dataset\n",
    "from surprise.model_selection import cross_validate\n",
    "import numpy as np\n",
    "import matplotlib.pyplot as plt\n",
    "import pandas as pd"
   ]
  },
  {
   "cell_type": "code",
   "execution_count": 56,
   "id": "9ef12afc",
   "metadata": {},
   "outputs": [],
   "source": [
    "Y_train = pd.read_csv('https://raw.githubusercontent.com/charlesincharge/Caltech-CS155-2022/main/miniprojects/miniproject2/data/train.csv').astype(int)\n",
    "Y_test = pd.read_csv('https://raw.githubusercontent.com/charlesincharge/Caltech-CS155-2022/main/miniprojects/miniproject2/data/test.csv').astype(int)"
   ]
  },
  {
   "cell_type": "code",
   "execution_count": 57,
   "id": "123bdd9b",
   "metadata": {},
   "outputs": [
    {
     "data": {
      "text/html": [
       "<div>\n",
       "<style scoped>\n",
       "    .dataframe tbody tr th:only-of-type {\n",
       "        vertical-align: middle;\n",
       "    }\n",
       "\n",
       "    .dataframe tbody tr th {\n",
       "        vertical-align: top;\n",
       "    }\n",
       "\n",
       "    .dataframe thead th {\n",
       "        text-align: right;\n",
       "    }\n",
       "</style>\n",
       "<table border=\"1\" class=\"dataframe\">\n",
       "  <thead>\n",
       "    <tr style=\"text-align: right;\">\n",
       "      <th></th>\n",
       "      <th>User ID</th>\n",
       "      <th>Movie ID</th>\n",
       "      <th>Rating</th>\n",
       "    </tr>\n",
       "  </thead>\n",
       "  <tbody>\n",
       "    <tr>\n",
       "      <th>0</th>\n",
       "      <td>196</td>\n",
       "      <td>242</td>\n",
       "      <td>3</td>\n",
       "    </tr>\n",
       "    <tr>\n",
       "      <th>1</th>\n",
       "      <td>186</td>\n",
       "      <td>302</td>\n",
       "      <td>3</td>\n",
       "    </tr>\n",
       "    <tr>\n",
       "      <th>2</th>\n",
       "      <td>22</td>\n",
       "      <td>377</td>\n",
       "      <td>1</td>\n",
       "    </tr>\n",
       "    <tr>\n",
       "      <th>3</th>\n",
       "      <td>166</td>\n",
       "      <td>346</td>\n",
       "      <td>1</td>\n",
       "    </tr>\n",
       "    <tr>\n",
       "      <th>4</th>\n",
       "      <td>298</td>\n",
       "      <td>474</td>\n",
       "      <td>4</td>\n",
       "    </tr>\n",
       "    <tr>\n",
       "      <th>...</th>\n",
       "      <td>...</td>\n",
       "      <td>...</td>\n",
       "      <td>...</td>\n",
       "    </tr>\n",
       "    <tr>\n",
       "      <th>89995</th>\n",
       "      <td>378</td>\n",
       "      <td>78</td>\n",
       "      <td>3</td>\n",
       "    </tr>\n",
       "    <tr>\n",
       "      <th>89996</th>\n",
       "      <td>880</td>\n",
       "      <td>476</td>\n",
       "      <td>3</td>\n",
       "    </tr>\n",
       "    <tr>\n",
       "      <th>89997</th>\n",
       "      <td>716</td>\n",
       "      <td>204</td>\n",
       "      <td>5</td>\n",
       "    </tr>\n",
       "    <tr>\n",
       "      <th>89998</th>\n",
       "      <td>276</td>\n",
       "      <td>1090</td>\n",
       "      <td>1</td>\n",
       "    </tr>\n",
       "    <tr>\n",
       "      <th>89999</th>\n",
       "      <td>12</td>\n",
       "      <td>203</td>\n",
       "      <td>3</td>\n",
       "    </tr>\n",
       "  </tbody>\n",
       "</table>\n",
       "<p>90000 rows × 3 columns</p>\n",
       "</div>"
      ],
      "text/plain": [
       "       User ID  Movie ID  Rating\n",
       "0          196       242       3\n",
       "1          186       302       3\n",
       "2           22       377       1\n",
       "3          166       346       1\n",
       "4          298       474       4\n",
       "...        ...       ...     ...\n",
       "89995      378        78       3\n",
       "89996      880       476       3\n",
       "89997      716       204       5\n",
       "89998      276      1090       1\n",
       "89999       12       203       3\n",
       "\n",
       "[90000 rows x 3 columns]"
      ]
     },
     "execution_count": 57,
     "metadata": {},
     "output_type": "execute_result"
    }
   ],
   "source": [
    "Y_train"
   ]
  },
  {
   "cell_type": "code",
   "execution_count": 58,
   "id": "42d6b92b",
   "metadata": {},
   "outputs": [],
   "source": [
    "import pandas as pd\n",
    "from surprise import Dataset\n",
    "from surprise import Reader\n",
    "\n",
    "reader = Reader(rating_scale=(1, 5))\n",
    "data = Dataset.load_from_df(Y_train[['User ID', 'Movie ID', 'Rating']], reader)"
   ]
  },
  {
   "cell_type": "code",
   "execution_count": 59,
   "id": "bed15e3b",
   "metadata": {},
   "outputs": [],
   "source": [
    "from surprise import SVD\n",
    "from surprise.model_selection import cross_validate"
   ]
  },
  {
   "cell_type": "code",
   "execution_count": 60,
   "id": "6806dfb2",
   "metadata": {},
   "outputs": [],
   "source": [
    "svd = SVD(verbose=True, n_epochs=10)"
   ]
  },
  {
   "cell_type": "code",
   "execution_count": 61,
   "id": "6624032f",
   "metadata": {},
   "outputs": [
    {
     "name": "stdout",
     "output_type": "stream",
     "text": [
      "Processing epoch 0\n",
      "Processing epoch 1\n",
      "Processing epoch 2\n",
      "Processing epoch 3\n",
      "Processing epoch 4\n",
      "Processing epoch 5\n",
      "Processing epoch 6\n",
      "Processing epoch 7\n",
      "Processing epoch 8\n",
      "Processing epoch 9\n"
     ]
    },
    {
     "data": {
      "text/plain": [
       "<surprise.prediction_algorithms.matrix_factorization.SVD at 0x7f9ea520b250>"
      ]
     },
     "execution_count": 61,
     "metadata": {},
     "output_type": "execute_result"
    }
   ],
   "source": [
    "trainset = data.build_full_trainset()\n",
    "svd.fit(trainset)"
   ]
  },
  {
   "cell_type": "code",
   "execution_count": 62,
   "id": "76e4ebe7",
   "metadata": {},
   "outputs": [],
   "source": [
    "test = Dataset.load_from_df(Y_test[['User ID', 'Movie ID', 'Rating']], reader)"
   ]
  },
  {
   "cell_type": "code",
   "execution_count": 63,
   "id": "79d2614a",
   "metadata": {},
   "outputs": [],
   "source": [
    "testset = test.build_full_trainset()\n",
    "testset = testset.build_testset()\n",
    "preds = svd.test(testset)"
   ]
  },
  {
   "cell_type": "code",
   "execution_count": 64,
   "id": "33e4579c",
   "metadata": {},
   "outputs": [],
   "source": [
    "from surprise.accuracy import mse"
   ]
  },
  {
   "cell_type": "code",
   "execution_count": 65,
   "id": "f817377f",
   "metadata": {},
   "outputs": [
    {
     "name": "stdout",
     "output_type": "stream",
     "text": [
      "MSE: 0.8810\n"
     ]
    },
    {
     "data": {
      "text/plain": [
       "0.88098636883165"
      ]
     },
     "execution_count": 65,
     "metadata": {},
     "output_type": "execute_result"
    }
   ],
   "source": [
    "mse(preds, verbose=True)"
   ]
  },
  {
   "cell_type": "code",
   "execution_count": 66,
   "id": "ef242101",
   "metadata": {},
   "outputs": [
    {
     "data": {
      "text/plain": [
       "(943, 100)"
      ]
     },
     "execution_count": 66,
     "metadata": {},
     "output_type": "execute_result"
    }
   ],
   "source": [
    "svd.pu.shape"
   ]
  },
  {
   "cell_type": "code",
   "execution_count": 67,
   "id": "7a9e6faf",
   "metadata": {},
   "outputs": [
    {
     "data": {
      "text/plain": [
       "(1668, 100)"
      ]
     },
     "execution_count": 67,
     "metadata": {},
     "output_type": "execute_result"
    }
   ],
   "source": [
    "svd.qi.shape"
   ]
  },
  {
   "cell_type": "code",
   "execution_count": 68,
   "id": "2d2c9f6c",
   "metadata": {},
   "outputs": [],
   "source": [
    "svd2 = SVD(verbose=True, n_epochs=10)"
   ]
  },
  {
   "cell_type": "code",
   "execution_count": 69,
   "id": "1f547ba4",
   "metadata": {},
   "outputs": [],
   "source": [
    "Y_full = pd.read_csv('https://raw.githubusercontent.com/charlesincharge/Caltech-CS155-2022/main/miniprojects/miniproject2/data/data.csv')"
   ]
  },
  {
   "cell_type": "code",
   "execution_count": 70,
   "id": "a950df25",
   "metadata": {},
   "outputs": [],
   "source": [
    "fdata = Dataset.load_from_df(Y_full[['User ID', 'Movie ID', 'Rating']], reader)"
   ]
  },
  {
   "cell_type": "code",
   "execution_count": 71,
   "id": "dbc21880",
   "metadata": {},
   "outputs": [
    {
     "name": "stdout",
     "output_type": "stream",
     "text": [
      "Processing epoch 0\n",
      "Processing epoch 1\n",
      "Processing epoch 2\n",
      "Processing epoch 3\n",
      "Processing epoch 4\n",
      "Processing epoch 5\n",
      "Processing epoch 6\n",
      "Processing epoch 7\n",
      "Processing epoch 8\n",
      "Processing epoch 9\n"
     ]
    },
    {
     "data": {
      "text/plain": [
       "<surprise.prediction_algorithms.matrix_factorization.SVD at 0x7f9ea291e2e0>"
      ]
     },
     "execution_count": 71,
     "metadata": {},
     "output_type": "execute_result"
    }
   ],
   "source": [
    "ftrainset = fdata.build_full_trainset()\n",
    "svd2.fit(ftrainset)"
   ]
  },
  {
   "cell_type": "code",
   "execution_count": 72,
   "id": "544ac204",
   "metadata": {},
   "outputs": [
    {
     "data": {
      "text/plain": [
       "(943, 100)"
      ]
     },
     "execution_count": 72,
     "metadata": {},
     "output_type": "execute_result"
    }
   ],
   "source": [
    "svd2.pu.shape"
   ]
  },
  {
   "cell_type": "code",
   "execution_count": 73,
   "id": "76db88a3",
   "metadata": {},
   "outputs": [
    {
     "data": {
      "text/plain": [
       "(1682, 100)"
      ]
     },
     "execution_count": 73,
     "metadata": {},
     "output_type": "execute_result"
    }
   ],
   "source": [
    "svd2.qi.shape"
   ]
  },
  {
   "cell_type": "code",
   "execution_count": 74,
   "id": "d3d32b7b",
   "metadata": {},
   "outputs": [],
   "source": [
    "U = svd2.pu\n",
    "V = svd2.qi"
   ]
  },
  {
   "cell_type": "code",
   "execution_count": 75,
   "id": "9082d52a",
   "metadata": {},
   "outputs": [],
   "source": [
    "Ub = svd2.bu\n",
    "Vb = svd2.bi"
   ]
  },
  {
   "cell_type": "code",
   "execution_count": 76,
   "id": "64a73994",
   "metadata": {},
   "outputs": [],
   "source": [
    "np.save(\"ots_bias_U.npy\", U.T)\n",
    "np.save(\"ots_bias_V.npy\", V.T)\n",
    "np.save(\"ots_bias_Ub.npy\", Ub.T)\n",
    "np.save(\"ots_bias_Vb.npy\", Vb.T)"
   ]
  },
  {
   "cell_type": "code",
   "execution_count": 77,
   "id": "6a7fc90e",
   "metadata": {},
   "outputs": [],
   "source": [
    "svd3 = SVD(verbose=True, n_epochs=10, biased=False)"
   ]
  },
  {
   "cell_type": "code",
   "execution_count": 78,
   "id": "6fb32b13",
   "metadata": {},
   "outputs": [
    {
     "name": "stdout",
     "output_type": "stream",
     "text": [
      "Processing epoch 0\n",
      "Processing epoch 1\n",
      "Processing epoch 2\n",
      "Processing epoch 3\n",
      "Processing epoch 4\n",
      "Processing epoch 5\n",
      "Processing epoch 6\n",
      "Processing epoch 7\n",
      "Processing epoch 8\n",
      "Processing epoch 9\n"
     ]
    },
    {
     "data": {
      "text/plain": [
       "<surprise.prediction_algorithms.matrix_factorization.SVD at 0x7f9ea2931070>"
      ]
     },
     "execution_count": 78,
     "metadata": {},
     "output_type": "execute_result"
    }
   ],
   "source": [
    "svd3.fit(ftrainset)"
   ]
  },
  {
   "cell_type": "code",
   "execution_count": 79,
   "id": "0fe8527e",
   "metadata": {},
   "outputs": [],
   "source": [
    "U_nb = svd3.pu\n",
    "V_nb = svd3.qi"
   ]
  },
  {
   "cell_type": "code",
   "execution_count": 80,
   "id": "b46063fe",
   "metadata": {},
   "outputs": [],
   "source": [
    "np.save(\"ots_U.npy\", U_nb.T)\n",
    "np.save(\"ots_V.npy\", V_nb.T)"
   ]
  },
  {
   "cell_type": "code",
   "execution_count": null,
   "id": "9260b6a9",
   "metadata": {},
   "outputs": [],
   "source": []
  }
 ],
 "metadata": {
  "kernelspec": {
   "display_name": "Python 3 (ipykernel)",
   "language": "python",
   "name": "python3"
  },
  "language_info": {
   "codemirror_mode": {
    "name": "ipython",
    "version": 3
   },
   "file_extension": ".py",
   "mimetype": "text/x-python",
   "name": "python",
   "nbconvert_exporter": "python",
   "pygments_lexer": "ipython3",
   "version": "3.9.5"
  }
 },
 "nbformat": 4,
 "nbformat_minor": 5
}
