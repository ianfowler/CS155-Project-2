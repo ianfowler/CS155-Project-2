{
 "cells": [
  {
   "cell_type": "code",
   "execution_count": 9,
   "metadata": {},
   "outputs": [],
   "source": [
    "import numpy as np\n",
    "import pandas as pd\n",
    "import matplotlib.pyplot as plt\n",
    "from tqdm import tqdm"
   ]
  },
  {
   "cell_type": "code",
   "execution_count": 10,
   "metadata": {},
   "outputs": [],
   "source": [
    "data, test, train, movies = pd.read_csv(\"data/data.csv\"), pd.read_csv(\"data/test.csv\"), pd.read_csv(\"data/train.csv\"), pd.read_csv(\"data/movies.csv\")\n"
   ]
  },
  {
   "cell_type": "code",
   "execution_count": 11,
   "metadata": {},
   "outputs": [],
   "source": [
    "def gen_rating_freq_hist(df, title, filename):\n",
    "    counts = df.Rating.value_counts()\n",
    "    plt.bar(counts.index, counts.values)\n",
    "    plt.xticks(np.arange(1,6))\n",
    "    plt.title(title)\n",
    "    plt.xlabel(\"rating\")\n",
    "    plt.ylabel(\"frequency\")\n",
    "    plt.savefig(\"./plots/\" + filename + \".png\")\n",
    "    plt.show()\n",
    "    "
   ]
  },
  {
   "cell_type": "code",
   "execution_count": 12,
   "metadata": {},
   "outputs": [
    {
     "data": {
      "image/png": "[encoded data removed]",
      "text/plain": [
       "<Figure size 432x288 with 1 Axes>"
      ]
     },
     "metadata": {
      "needs_background": "light"
     },
     "output_type": "display_data"
    }
   ],
   "source": [
    "gen_rating_freq_hist(data, \"Frequency of Movie Ratings (All Movies)\", \"1a\")"
   ]
  },
  {
   "cell_type": "code",
   "execution_count": 13,
   "metadata": {},
   "outputs": [
    {
     "data": {
      "image/png": "[encoded data removed]",
      "text/plain": [
       "<Figure size 432x288 with 1 Axes>"
      ]
     },
     "metadata": {
      "needs_background": "light"
     },
     "output_type": "display_data"
    }
   ],
   "source": [
    "ratings = data[[\"Movie ID\", \"Rating\"]].groupby(\"Movie ID\").count().rename(columns={\"Rating\":\"Count\"})\n",
    "s = ratings.sort_values(\"Count\")\n",
    "popular_10_movies = s[-10:].index.array\n",
    "popular_10_movies\n",
    "\n",
    "popular_ratings = data[data[\"Movie ID\"].isin(popular_10_movies)]\n",
    "gen_rating_freq_hist(popular_ratings, \"Frequency of Movie Ratings (10 Most Popular Movies)\", \"1b\")"
   ]
  },
  {
   "cell_type": "code",
   "execution_count": null,
   "metadata": {},
   "outputs": [],
   "source": [
    "ratings = data[[\"Movie ID\", \"Rating\"]].groupby(\"Movie ID\").mean()\n",
    "s = ratings.sort_values(\"Rating\")\n",
    "best_10_movies = s[-10:].index.array\n",
    "\n",
    "popular_ratings = data[data[\"Movie ID\"].isin(best_10_movies)]\n",
    "gen_rating_freq_hist(popular_ratings, \"Frequency of Movie Ratings (10 Most Popular Movies)\", \"1b\")"
   ]
  },
  {
   "cell_type": "code",
   "execution_count": 39,
   "metadata": {},
   "outputs": [
    {
     "data": {
      "text/html": [
       "<div>\n",
       "<style scoped>\n",
       "    .dataframe tbody tr th:only-of-type {\n",
       "        vertical-align: middle;\n",
       "    }\n",
       "\n",
       "    .dataframe tbody tr th {\n",
       "        vertical-align: top;\n",
       "    }\n",
       "\n",
       "    .dataframe thead th {\n",
       "        text-align: right;\n",
       "    }\n",
       "</style>\n",
       "<table border=\"1\" class=\"dataframe\">\n",
       "  <thead>\n",
       "    <tr style=\"text-align: right;\">\n",
       "      <th></th>\n",
       "      <th></th>\n",
       "      <th>User ID</th>\n",
       "    </tr>\n",
       "    <tr>\n",
       "      <th>Movie ID</th>\n",
       "      <th>Rating</th>\n",
       "      <th></th>\n",
       "    </tr>\n",
       "  </thead>\n",
       "  <tbody>\n",
       "    <tr>\n",
       "      <th>814</th>\n",
       "      <th>5</th>\n",
       "      <td>1</td>\n",
       "    </tr>\n",
       "    <tr>\n",
       "      <th>1122</th>\n",
       "      <th>5</th>\n",
       "      <td>1</td>\n",
       "    </tr>\n",
       "    <tr>\n",
       "      <th>1189</th>\n",
       "      <th>5</th>\n",
       "      <td>3</td>\n",
       "    </tr>\n",
       "    <tr>\n",
       "      <th>1201</th>\n",
       "      <th>5</th>\n",
       "      <td>1</td>\n",
       "    </tr>\n",
       "    <tr>\n",
       "      <th>1293</th>\n",
       "      <th>5</th>\n",
       "      <td>3</td>\n",
       "    </tr>\n",
       "    <tr>\n",
       "      <th>1467</th>\n",
       "      <th>5</th>\n",
       "      <td>2</td>\n",
       "    </tr>\n",
       "    <tr>\n",
       "      <th>1500</th>\n",
       "      <th>5</th>\n",
       "      <td>2</td>\n",
       "    </tr>\n",
       "    <tr>\n",
       "      <th>1536</th>\n",
       "      <th>5</th>\n",
       "      <td>1</td>\n",
       "    </tr>\n",
       "    <tr>\n",
       "      <th>1599</th>\n",
       "      <th>5</th>\n",
       "      <td>1</td>\n",
       "    </tr>\n",
       "    <tr>\n",
       "      <th>1653</th>\n",
       "      <th>5</th>\n",
       "      <td>1</td>\n",
       "    </tr>\n",
       "  </tbody>\n",
       "</table>\n",
       "</div>"
      ],
      "text/plain": [
       "                 User ID\n",
       "Movie ID Rating         \n",
       "814      5             1\n",
       "1122     5             1\n",
       "1189     5             3\n",
       "1201     5             1\n",
       "1293     5             3\n",
       "1467     5             2\n",
       "1500     5             2\n",
       "1536     5             1\n",
       "1599     5             1\n",
       "1653     5             1"
      ]
     },
     "execution_count": 39,
     "metadata": {},
     "output_type": "execute_result"
    }
   ],
   "source": [
    "ratings = data[[\"Movie ID\", \"Rating\"]].groupby(\"Movie ID\").mean()\n",
    "s = ratings.sort_values(\"Rating\")\n",
    "best_10_movies = s[-10:]\n",
    "\n",
    "\n",
    "counts_best_10 = data[data[\"Movie ID\"].isin(best_10_movies.index)].groupby([\"Movie ID\", \"Rating\"]).count().rename(columns={\"Rating\":\"Count\"})\n",
    "counts_best_10\n",
    "\n",
    "# gen_rating_freq_hist(counts_best_10, \"Average of Movie Ratings (10 Best Movies)\", \"1c\")\n",
    "\n",
    "\n",
    "counts_best_10\n",
    "\n",
    "# counts = counts_best_10[\"Rating\"].value_counts()\n",
    "# counts_best_10\n",
    "\n",
    "# plt.bar(counts.index, counts.values)\n",
    "# plt.xticks(np.arange(1,6))\n",
    "# plt.xlabel(\"rating\")\n",
    "# plt.ylabel(\"frequency\")\n",
    "# plt.savefig(\"./plots/\" + filename + \".png\")\n",
    "# plt.show()\n"
   ]
  },
  {
   "cell_type": "code",
   "execution_count": null,
   "metadata": {},
   "outputs": [],
   "source": [
    "genres = [\"Action\", \"Comedy\", \"Childrens\"]\n",
    "\n",
    "for genre in genres:\n",
    "    ids_in_genre = movies[movies[genre] == 1][\"Movie ID\"]\n",
    "    ratings_in_genre = data[data[\"Movie ID\"].isin(ids_in_genre)]\n",
    "    gen_rating_freq_hist(ratings_in_genre, \"Movie Ratings ({})\".format(genre), \"1d_{}\".format(genre.lower()))\n",
    "    "
   ]
  },
  {
   "cell_type": "code",
   "execution_count": null,
   "metadata": {},
   "outputs": [],
   "source": []
  },
  {
   "cell_type": "code",
   "execution_count": null,
   "metadata": {},
   "outputs": [],
   "source": []
  }
 ],
 "metadata": {
  "kernelspec": {
   "display_name": "Python 3",
   "language": "python",
   "name": "python3"
  },
  "language_info": {
   "codemirror_mode": {
    "name": "ipython",
    "version": 3
   },
   "file_extension": ".py",
   "mimetype": "text/x-python",
   "name": "python",
   "nbconvert_exporter": "python",
   "pygments_lexer": "ipython3",
   "version": "3.7.7"
  }
 },
 "nbformat": 4,
 "nbformat_minor": 4
}
